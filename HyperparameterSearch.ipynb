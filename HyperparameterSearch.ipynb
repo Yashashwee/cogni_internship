{
  "nbformat": 4,
  "nbformat_minor": 0,
  "metadata": {
    "colab": {
      "name": "HyperparameterSearch.ipynb",
      "provenance": [],
      "collapsed_sections": [],
      "authorship_tag": "ABX9TyO+rVQHwjCsSn5gDDL1nWRl",
      "include_colab_link": true
    },
    "kernelspec": {
      "name": "python3",
      "display_name": "Python 3"
    },
    "language_info": {
      "name": "python"
    }
  },
  "cells": [
    {
      "cell_type": "markdown",
      "metadata": {
        "id": "view-in-github",
        "colab_type": "text"
      },
      "source": [
        "<a href=\"https://colab.research.google.com/github/Yashashwee/cogni_internship/blob/main/HyperparameterSearch.ipynb\" target=\"_parent\"><img src=\"https://colab.research.google.com/assets/colab-badge.svg\" alt=\"Open In Colab\"/></a>"
      ]
    },
    {
      "cell_type": "markdown",
      "source": [
        "This notebook explores the different search methods used for hyperparameter tuning"
      ],
      "metadata": {
        "id": "TBbpkw-PNmaA"
      }
    },
    {
      "cell_type": "code",
      "source": [
        "import numpy as np"
      ],
      "metadata": {
        "id": "LGEPKmcKUErj"
      },
      "execution_count": 16,
      "outputs": []
    },
    {
      "cell_type": "code",
      "source": [
        "#First we read the dataset\n",
        "import pandas as pd\n",
        "\n",
        "\n",
        "url = 'https://github.com/a-forty-two/COG_GN22CDBDS001_MARCH_22/blob/e1fa53cbce8eeaa175f11b94f2e2543ad7d75600/LifeUniverseAndEverything.xlsx'\n",
        "\n",
        "df = pd.read_excel('/content/LifeUniverseAndEverything.xlsx')\n",
        "\n",
        "df.head() "
      ],
      "metadata": {
        "colab": {
          "base_uri": "https://localhost:8080/",
          "height": 206
        },
        "id": "E_BLc5YDNxaa",
        "outputId": "c7e75428-3592-46c5-be4b-e83549dbf631"
      },
      "execution_count": 3,
      "outputs": [
        {
          "output_type": "execute_result",
          "data": {
            "text/plain": [
              "   Life  O2  O3  H2O  N2  H2  Sunlight  Aliens  Plants\n",
              "0     5   6  38   48  25  38         0       1       1\n",
              "1     4   0   4    2   6  13         0       1       0\n",
              "2     4  11   3   78  30  15         0       0       1\n",
              "3     0  22  30   68  28  23         0       1       0\n",
              "4    10  20  23   56  20  27         1       0       1"
            ],
            "text/html": [
              "\n",
              "  <div id=\"df-0323db99-6cca-49e4-9371-f6ff8389f94a\">\n",
              "    <div class=\"colab-df-container\">\n",
              "      <div>\n",
              "<style scoped>\n",
              "    .dataframe tbody tr th:only-of-type {\n",
              "        vertical-align: middle;\n",
              "    }\n",
              "\n",
              "    .dataframe tbody tr th {\n",
              "        vertical-align: top;\n",
              "    }\n",
              "\n",
              "    .dataframe thead th {\n",
              "        text-align: right;\n",
              "    }\n",
              "</style>\n",
              "<table border=\"1\" class=\"dataframe\">\n",
              "  <thead>\n",
              "    <tr style=\"text-align: right;\">\n",
              "      <th></th>\n",
              "      <th>Life</th>\n",
              "      <th>O2</th>\n",
              "      <th>O3</th>\n",
              "      <th>H2O</th>\n",
              "      <th>N2</th>\n",
              "      <th>H2</th>\n",
              "      <th>Sunlight</th>\n",
              "      <th>Aliens</th>\n",
              "      <th>Plants</th>\n",
              "    </tr>\n",
              "  </thead>\n",
              "  <tbody>\n",
              "    <tr>\n",
              "      <th>0</th>\n",
              "      <td>5</td>\n",
              "      <td>6</td>\n",
              "      <td>38</td>\n",
              "      <td>48</td>\n",
              "      <td>25</td>\n",
              "      <td>38</td>\n",
              "      <td>0</td>\n",
              "      <td>1</td>\n",
              "      <td>1</td>\n",
              "    </tr>\n",
              "    <tr>\n",
              "      <th>1</th>\n",
              "      <td>4</td>\n",
              "      <td>0</td>\n",
              "      <td>4</td>\n",
              "      <td>2</td>\n",
              "      <td>6</td>\n",
              "      <td>13</td>\n",
              "      <td>0</td>\n",
              "      <td>1</td>\n",
              "      <td>0</td>\n",
              "    </tr>\n",
              "    <tr>\n",
              "      <th>2</th>\n",
              "      <td>4</td>\n",
              "      <td>11</td>\n",
              "      <td>3</td>\n",
              "      <td>78</td>\n",
              "      <td>30</td>\n",
              "      <td>15</td>\n",
              "      <td>0</td>\n",
              "      <td>0</td>\n",
              "      <td>1</td>\n",
              "    </tr>\n",
              "    <tr>\n",
              "      <th>3</th>\n",
              "      <td>0</td>\n",
              "      <td>22</td>\n",
              "      <td>30</td>\n",
              "      <td>68</td>\n",
              "      <td>28</td>\n",
              "      <td>23</td>\n",
              "      <td>0</td>\n",
              "      <td>1</td>\n",
              "      <td>0</td>\n",
              "    </tr>\n",
              "    <tr>\n",
              "      <th>4</th>\n",
              "      <td>10</td>\n",
              "      <td>20</td>\n",
              "      <td>23</td>\n",
              "      <td>56</td>\n",
              "      <td>20</td>\n",
              "      <td>27</td>\n",
              "      <td>1</td>\n",
              "      <td>0</td>\n",
              "      <td>1</td>\n",
              "    </tr>\n",
              "  </tbody>\n",
              "</table>\n",
              "</div>\n",
              "      <button class=\"colab-df-convert\" onclick=\"convertToInteractive('df-0323db99-6cca-49e4-9371-f6ff8389f94a')\"\n",
              "              title=\"Convert this dataframe to an interactive table.\"\n",
              "              style=\"display:none;\">\n",
              "        \n",
              "  <svg xmlns=\"http://www.w3.org/2000/svg\" height=\"24px\"viewBox=\"0 0 24 24\"\n",
              "       width=\"24px\">\n",
              "    <path d=\"M0 0h24v24H0V0z\" fill=\"none\"/>\n",
              "    <path d=\"M18.56 5.44l.94 2.06.94-2.06 2.06-.94-2.06-.94-.94-2.06-.94 2.06-2.06.94zm-11 1L8.5 8.5l.94-2.06 2.06-.94-2.06-.94L8.5 2.5l-.94 2.06-2.06.94zm10 10l.94 2.06.94-2.06 2.06-.94-2.06-.94-.94-2.06-.94 2.06-2.06.94z\"/><path d=\"M17.41 7.96l-1.37-1.37c-.4-.4-.92-.59-1.43-.59-.52 0-1.04.2-1.43.59L10.3 9.45l-7.72 7.72c-.78.78-.78 2.05 0 2.83L4 21.41c.39.39.9.59 1.41.59.51 0 1.02-.2 1.41-.59l7.78-7.78 2.81-2.81c.8-.78.8-2.07 0-2.86zM5.41 20L4 18.59l7.72-7.72 1.47 1.35L5.41 20z\"/>\n",
              "  </svg>\n",
              "      </button>\n",
              "      \n",
              "  <style>\n",
              "    .colab-df-container {\n",
              "      display:flex;\n",
              "      flex-wrap:wrap;\n",
              "      gap: 12px;\n",
              "    }\n",
              "\n",
              "    .colab-df-convert {\n",
              "      background-color: #E8F0FE;\n",
              "      border: none;\n",
              "      border-radius: 50%;\n",
              "      cursor: pointer;\n",
              "      display: none;\n",
              "      fill: #1967D2;\n",
              "      height: 32px;\n",
              "      padding: 0 0 0 0;\n",
              "      width: 32px;\n",
              "    }\n",
              "\n",
              "    .colab-df-convert:hover {\n",
              "      background-color: #E2EBFA;\n",
              "      box-shadow: 0px 1px 2px rgba(60, 64, 67, 0.3), 0px 1px 3px 1px rgba(60, 64, 67, 0.15);\n",
              "      fill: #174EA6;\n",
              "    }\n",
              "\n",
              "    [theme=dark] .colab-df-convert {\n",
              "      background-color: #3B4455;\n",
              "      fill: #D2E3FC;\n",
              "    }\n",
              "\n",
              "    [theme=dark] .colab-df-convert:hover {\n",
              "      background-color: #434B5C;\n",
              "      box-shadow: 0px 1px 3px 1px rgba(0, 0, 0, 0.15);\n",
              "      filter: drop-shadow(0px 1px 2px rgba(0, 0, 0, 0.3));\n",
              "      fill: #FFFFFF;\n",
              "    }\n",
              "  </style>\n",
              "\n",
              "      <script>\n",
              "        const buttonEl =\n",
              "          document.querySelector('#df-0323db99-6cca-49e4-9371-f6ff8389f94a button.colab-df-convert');\n",
              "        buttonEl.style.display =\n",
              "          google.colab.kernel.accessAllowed ? 'block' : 'none';\n",
              "\n",
              "        async function convertToInteractive(key) {\n",
              "          const element = document.querySelector('#df-0323db99-6cca-49e4-9371-f6ff8389f94a');\n",
              "          const dataTable =\n",
              "            await google.colab.kernel.invokeFunction('convertToInteractive',\n",
              "                                                     [key], {});\n",
              "          if (!dataTable) return;\n",
              "\n",
              "          const docLinkHtml = 'Like what you see? Visit the ' +\n",
              "            '<a target=\"_blank\" href=https://colab.research.google.com/notebooks/data_table.ipynb>data table notebook</a>'\n",
              "            + ' to learn more about interactive tables.';\n",
              "          element.innerHTML = '';\n",
              "          dataTable['output_type'] = 'display_data';\n",
              "          await google.colab.output.renderOutput(dataTable, element);\n",
              "          const docLink = document.createElement('div');\n",
              "          docLink.innerHTML = docLinkHtml;\n",
              "          element.appendChild(docLink);\n",
              "        }\n",
              "      </script>\n",
              "    </div>\n",
              "  </div>\n",
              "  "
            ]
          },
          "metadata": {},
          "execution_count": 3
        }
      ]
    },
    {
      "cell_type": "code",
      "source": [
        "#let us now do some basic preprocessing \n",
        "from sklearn.preprocessing import StandardScaler,OneHotEncoder\n",
        "\n",
        "scaled = df[['O2','O3','H2O','N2','H2']]\n",
        "onehot = df[['Sunlight','Aliens','Plants']]\n",
        "\n",
        "scaler=StandardScaler()\n",
        "scaler.fit(scaled)\n",
        "scaled = scaler.transform(scaled)\n",
        "\n",
        "enc = OneHotEncoder()\n",
        "enc.fit(onehot)\n",
        "onehot=enc.transform(onehot).toarray()\n",
        "\n",
        "X = np.concatenate((scaled,onehot),axis=1)\n",
        "y=df['Life']"
      ],
      "metadata": {
        "id": "NiGd9P5tPHIv"
      },
      "execution_count": 25,
      "outputs": []
    },
    {
      "cell_type": "code",
      "source": [
        "!pip3 install scikit-optimize"
      ],
      "metadata": {
        "colab": {
          "base_uri": "https://localhost:8080/"
        },
        "id": "HvsoVyjdTc5s",
        "outputId": "b9373f47-6b0a-440f-ddbc-79869e2eba8e"
      },
      "execution_count": 13,
      "outputs": [
        {
          "output_type": "stream",
          "name": "stdout",
          "text": [
            "Collecting scikit-optimize\n",
            "  Downloading scikit_optimize-0.9.0-py2.py3-none-any.whl (100 kB)\n",
            "\u001b[?25l\r\u001b[K     |███▎                            | 10 kB 19.8 MB/s eta 0:00:01\r\u001b[K     |██████▌                         | 20 kB 11.3 MB/s eta 0:00:01\r\u001b[K     |█████████▉                      | 30 kB 7.4 MB/s eta 0:00:01\r\u001b[K     |█████████████                   | 40 kB 4.9 MB/s eta 0:00:01\r\u001b[K     |████████████████▍               | 51 kB 4.2 MB/s eta 0:00:01\r\u001b[K     |███████████████████▋            | 61 kB 4.9 MB/s eta 0:00:01\r\u001b[K     |██████████████████████▉         | 71 kB 5.5 MB/s eta 0:00:01\r\u001b[K     |██████████████████████████▏     | 81 kB 6.1 MB/s eta 0:00:01\r\u001b[K     |█████████████████████████████▍  | 92 kB 5.8 MB/s eta 0:00:01\r\u001b[K     |████████████████████████████████| 100 kB 3.8 MB/s \n",
            "\u001b[?25hRequirement already satisfied: numpy>=1.13.3 in /usr/local/lib/python3.7/dist-packages (from scikit-optimize) (1.21.5)\n",
            "Requirement already satisfied: scipy>=0.19.1 in /usr/local/lib/python3.7/dist-packages (from scikit-optimize) (1.4.1)\n",
            "Requirement already satisfied: scikit-learn>=0.20.0 in /usr/local/lib/python3.7/dist-packages (from scikit-optimize) (1.0.2)\n",
            "Collecting pyaml>=16.9\n",
            "  Downloading pyaml-21.10.1-py2.py3-none-any.whl (24 kB)\n",
            "Requirement already satisfied: joblib>=0.11 in /usr/local/lib/python3.7/dist-packages (from scikit-optimize) (1.1.0)\n",
            "Requirement already satisfied: PyYAML in /usr/local/lib/python3.7/dist-packages (from pyaml>=16.9->scikit-optimize) (3.13)\n",
            "Requirement already satisfied: threadpoolctl>=2.0.0 in /usr/local/lib/python3.7/dist-packages (from scikit-learn>=0.20.0->scikit-optimize) (3.1.0)\n",
            "Installing collected packages: pyaml, scikit-optimize\n",
            "Successfully installed pyaml-21.10.1 scikit-optimize-0.9.0\n"
          ]
        }
      ]
    },
    {
      "cell_type": "code",
      "source": [
        "from lightgbm import LGBMClassifier\n",
        "from sklearn.model_selection import GridSearchCV, RandomizedSearchCV\n",
        "from skopt import BayesSearchCV\n",
        "from scipy.stats import loguniform, randint\n",
        "\n",
        "lgb = LGBMClassifier()\n"
      ],
      "metadata": {
        "id": "QGAAdQaeR55t"
      },
      "execution_count": 30,
      "outputs": []
    },
    {
      "cell_type": "code",
      "source": [
        "#for grid search\n",
        "\n",
        "\n",
        "param_grid = {\n",
        "    \"classifier__learning_rate\": [0.0001, 0.0005, 0.001, 0.01, 0.1],\n",
        "    \"classifier__n_estimators\": [100, 300, 600, 800, 1000],\n",
        "    \"classifier__max_depth\": [ 4, 20, 100, 250, 400] \n",
        "}\n",
        "\n",
        "reg_grid = GridSearchCV(lgb,\n",
        "                        param_grid=param_grid\n",
        "                       )\n",
        "\n",
        "model_grid = reg_grid.fit(X, y)\n"
      ],
      "metadata": {
        "id": "UAdruuq_T0Mj"
      },
      "execution_count": 28,
      "outputs": []
    },
    {
      "cell_type": "code",
      "source": [
        "#let us now try random search\n",
        "\n",
        "n_iter = 70\n",
        "\n",
        "param_grid = {\n",
        "    \"classifier__learning_rate\": loguniform(1e-4, 0.1),\n",
        "    \"classifier__n_estimators\": randint(100,1000),\n",
        "    \"classifier__max_depth\": randint(4, 400) \n",
        "}\n",
        "\n",
        "reg_rand = RandomizedSearchCV(lgb,\n",
        "                         param_distributions=param_grid,\n",
        "                         n_iter=n_iter,\n",
        "                         cv=5,\n",
        "                         n_jobs=8,\n",
        "                         random_state=42)\n",
        "\n",
        "model_rand = reg_rand.fit(X, y)"
      ],
      "metadata": {
        "id": "tf-H9IzqWSgC"
      },
      "execution_count": 32,
      "outputs": []
    },
    {
      "cell_type": "code",
      "source": [
        "# Now let us try bayesian search\n",
        "n_iter = 70\n",
        "\n",
        "param_grid = {\n",
        "    \"classifier__learning_rate\": (0.0001, 0.1, \"log-uniform\"),\n",
        "    \"classifier__n_estimators\": (100,  1000) ,\n",
        "    \"classifier__max_depth\": (4, 400) \n",
        "}\n",
        "\n",
        "reg_bay = BayesSearchCV(estimator=lgb,\n",
        "                    search_spaces=param_grid,\n",
        "                    n_iter=n_iter,\n",
        "                    cv=5,\n",
        "                    n_jobs=8,\n",
        "                    random_state=123)\n",
        "\n",
        "model_bay = reg_bay.fit(X, y)"
      ],
      "metadata": {
        "colab": {
          "base_uri": "https://localhost:8080/"
        },
        "id": "lday6eS5W7_x",
        "outputId": "1e612b56-15bb-4dad-8ac8-431fba1085bc"
      },
      "execution_count": 33,
      "outputs": [
        {
          "output_type": "stream",
          "name": "stderr",
          "text": [
            "/usr/local/lib/python3.7/dist-packages/skopt/optimizer/optimizer.py:449: UserWarning: The objective has been evaluated at this point before.\n",
            "  warnings.warn(\"The objective has been evaluated \"\n",
            "/usr/local/lib/python3.7/dist-packages/skopt/optimizer/optimizer.py:449: UserWarning: The objective has been evaluated at this point before.\n",
            "  warnings.warn(\"The objective has been evaluated \"\n"
          ]
        }
      ]
    },
    {
      "cell_type": "code",
      "source": [
        "#finally we visualize our results\n",
        "import matplotlib.pyplot as plt\n",
        "\n",
        "%matplotlib inline\n",
        "\n",
        "param = 'param_classifier__learning_rate'\n",
        "\n",
        "grid = model_grid.cv_results_[param]\n",
        "rand = model_rand.cv_results_[param]\n",
        "bay = model_bay.cv_results_[param]\n",
        "\n",
        "fig = plt.figure(figsize=(15, 7))\n",
        "\n",
        "ax = plt.gca()\n",
        "ax.scatter(np.arange(len(grid)), grid.data, c='b', s=20, label='grid');\n",
        "ax.scatter(np.arange(len(rand)), rand.data, c='r', s=20, label='random');\n",
        "ax.scatter(np.arange(len(bay)), bay, c='g', s=20, label='bayesian');\n",
        "ax.set_yscale('log')\n",
        "\n",
        "plt.legend();\n",
        "plt.title(param);"
      ],
      "metadata": {
        "colab": {
          "base_uri": "https://localhost:8080/",
          "height": 444
        },
        "id": "Nrthwgi7XQKh",
        "outputId": "94cbc3d2-1d8e-4851-969b-146f7add0958"
      },
      "execution_count": 34,
      "outputs": [
        {
          "output_type": "display_data",
          "data": {
            "text/plain": [
              "<Figure size 1080x504 with 1 Axes>"
            ],
            "image/png": "[encoded data removed]"
          },
          "metadata": {
            "needs_background": "light"
          }
        }
      ]
    }
  ]
}