{
  "nbformat": 4,
  "nbformat_minor": 0,
  "metadata": {
    "colab": {
      "name": "GridSearch.ipynb",
      "provenance": [],
      "collapsed_sections": [],
      "authorship_tag": "ABX9TyOPk+rJuJ91IyBJQ36fsiXv",
      "include_colab_link": true
    },
    "kernelspec": {
      "name": "python3",
      "display_name": "Python 3"
    },
    "language_info": {
      "name": "python"
    }
  },
  "cells": [
    {
      "cell_type": "markdown",
      "metadata": {
        "id": "view-in-github",
        "colab_type": "text"
      },
      "source": [
        "<a href=\"https://colab.research.google.com/github/Yashashwee/cogni_internship/blob/main/GridSearch.ipynb\" target=\"_parent\"><img src=\"https://colab.research.google.com/assets/colab-badge.svg\" alt=\"Open In Colab\"/></a>"
      ]
    },
    {
      "cell_type": "code",
      "source": [
        "def decimalToBinary(n):\n",
        "    return \"{0:b}\".format(int(n)).zfill(n)\n",
        "\n",
        "decimalToBinary(n)\n"
      ],
      "metadata": {
        "id": "iNJ58jCWq8Zf"
      },
      "execution_count": 1,
      "outputs": []
    },
    {
      "cell_type": "code",
      "execution_count": 10,
      "metadata": {
        "colab": {
          "base_uri": "https://localhost:8080/"
        },
        "id": "47YWNhZwnNW-",
        "outputId": "f521a875-cdd2-4d79-dfb6-3da3ea2fd93e"
      },
      "outputs": [
        {
          "output_type": "stream",
          "name": "stdout",
          "text": [
            "Writing truthval.py\n"
          ]
        }
      ],
      "source": [
        "%%writefile -a truthval.py\n",
        "n= int(input(\"Enter value \"))\n",
        "arr=[]\n",
        "ele=[]\n",
        "for i in range(2**n):\n",
        "  for j in reversed(range(n)):\n",
        "    ele.append(i//2**j%2) \n",
        "  instring = \"\".join([str(e) for e in ele])\n",
        "  arr.append(instring)\n",
        "  ele=[]\n",
        "for e in arr:\n",
        "  print(e,end=\"\\n\")\n"
      ]
    }
  ]
}