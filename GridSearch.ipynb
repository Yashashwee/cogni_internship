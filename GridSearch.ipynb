{
  "nbformat": 4,
  "nbformat_minor": 0,
  "metadata": {
    "colab": {
      "name": "GridSearch.ipynb",
      "provenance": [],
      "collapsed_sections": [],
      "authorship_tag": "ABX9TyMBd5Sq5PDU4hSq0BQt3COV",
      "include_colab_link": true
    },
    "kernelspec": {
      "name": "python3",
      "display_name": "Python 3"
    },
    "language_info": {
      "name": "python"
    }
  },
  "cells": [
    {
      "cell_type": "markdown",
      "metadata": {
        "id": "view-in-github",
        "colab_type": "text"
      },
      "source": [
        "<a href=\"https://colab.research.google.com/github/Yashashwee/cogni_internship/blob/main/GridSearch.ipynb\" target=\"_parent\"><img src=\"https://colab.research.google.com/assets/colab-badge.svg\" alt=\"Open In Colab\"/></a>"
      ]
    },
    {
      "cell_type": "code",
      "source": [
        "def decimalToBinary(n):\n",
        "    return \"{0:b}\".format(int(n)).zfill(n)\n",
        "\n",
        "decimalToBinary(n)\n"
      ],
      "metadata": {
        "id": "iNJ58jCWq8Zf"
      },
      "execution_count": 1,
      "outputs": []
    },
    {
      "cell_type": "code",
      "execution_count": 3,
      "metadata": {
        "colab": {
          "base_uri": "https://localhost:8080/"
        },
        "id": "47YWNhZwnNW-",
        "outputId": "3c74d31e-54c3-4288-f7f2-5ef85d49b774"
      },
      "outputs": [
        {
          "output_type": "stream",
          "name": "stdout",
          "text": [
            "Writing truthvalue.py\n"
          ]
        }
      ],
      "source": [
        "%%writefile -a truthvalue.py\n",
        "\n",
        "n= int(input(\"Enter value \"))\n",
        "arr=[]\n",
        "for i in range(2**n):\n",
        "  ele = [i//2**j%2 for j in reversed(range(n))]\n",
        "  instring = \"\".join([str(e) for e in ele])\n",
        "  arr.append(instring)\n",
        "for e in arr:\n",
        "  print(e,end=\"\\n\")\n"
      ]
    }
  ]
}